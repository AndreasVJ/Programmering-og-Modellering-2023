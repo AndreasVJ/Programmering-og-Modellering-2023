{
 "cells": [
  {
   "attachments": {},
   "cell_type": "markdown",
   "metadata": {},
   "source": [
    "# Modellering av smittespredning\n",
    "\n",
    "Smittespredning kan simuleres ved hjelp av matematiske modeller. Denne artikkelen vil ta for seg et par ulike modeller, og til slutt sammenligne dem med ekte data."
   ]
  },
  {
   "cell_type": "code",
   "execution_count": 1,
   "metadata": {},
   "outputs": [],
   "source": [
    "import matplotlib.pyplot as plt\n",
    "import numpy as np\n",
    "from ipywidgets import interact, FloatSlider\n",
    "\n",
    "plt.rcParams[\"figure.figsize\"] = (15, 5)\n",
    "\n",
    "weeks = 48\n",
    "p = 157759\n",
    "\n",
    "influensa_data = np.loadtxt(\"influensa.txt\", delimiter=\",\", dtype=int)"
   ]
  },
  {
   "attachments": {},
   "cell_type": "markdown",
   "metadata": {},
   "source": [
    "## Modell 1\n",
    "\n",
    "En enkel måte å simulere smittespredning på, er å si at antallet syke ved et tidspunkt $t$, er gitt ved antallet syke ved tidspunktet $t - 1$, pluss hvor mange som blir smittet i intervallet mellom de to tidspunktene. Matematisk kan dette representeres som den numeriske modellen under.\n",
    "\n",
    "### Numerisk modell $I_{t+1} = I_n + a I_n$\n",
    "\n",
    "$I$ er antall smittede, og variabelen $a$ er produktet av kontaktraten og den prosentvise smittsomheten til sykdommen.\n",
    "\n",
    "Det er mulig å lage en kontinuerlig modell for smitten.\n",
    "\n",
    "### Kontinuerlig modell $I'(t) = a I(t)$  \n",
    "\n",
    "Man kan bruke den kontinuerlige modellen for å finne en funksjon for $I$ gitt ved $t$.  \n",
    "Dersom man setter antall syke i uke 0 til 1, kan man finne en funksjon for $I(t)$ ved å løse startverdiproblemet $I'(t) = a I(t), \\hspace{0.3cm} I(0) = 1$  \n",
    "Man ender da opp med $I(t) = e^{at}$\n",
    "\n",
    "Programmene som følger bruker en kontaktrate $a$ som er gitt i per uke, og følger en populasjon på 157758 individer over en periode på 48 uker. Siden man må løse et startverdiproblet for å finne en kontinuerlig funksjon for $I(t)$ vil programmene for kontinuerlige modeller her alltid starte med 1 smittet person i uke 0.\n",
    "\n",
    "#### Program for numerisk modell:"
   ]
  },
  {
   "cell_type": "code",
   "execution_count": 2,
   "metadata": {},
   "outputs": [
    {
     "data": {
      "application/vnd.jupyter.widget-view+json": {
       "model_id": "0ba13d1109bd4b0385a6227eb0e9b689",
       "version_major": 2,
       "version_minor": 0
      },
      "text/plain": [
       "interactive(children=(FloatSlider(value=1.0, description='I_0', max=1000.0, min=1.0, step=1.0), FloatSlider(va…"
      ]
     },
     "metadata": {},
     "output_type": "display_data"
    }
   ],
   "source": [
    "@interact(I_0 = FloatSlider(value=1, min=1, max=1000, step=1), a = FloatSlider(value=0.3, min=0, max=1, step=0.01))\n",
    "def simulate(I_0, a):\n",
    "    \n",
    "    I = np.array([I_0] * weeks, dtype=float)\n",
    "    t = np.arange(0, weeks, 1)\n",
    "\n",
    "    for n in t[:-1]:\n",
    "        I[n+1] = I[n] + a*I[n]\n",
    "\n",
    "    plt.gca().set_ylim([0, p*1.1])\n",
    "\n",
    "    plt.plot(t, I)\n",
    "    plt.legend([\"Antall syke\"], loc='center left', bbox_to_anchor=(1, 0.5))\n",
    "    plt.xticks(np.arange(0, weeks + 1, 1))\n",
    "    plt.title(\"Smittespredning\")\n",
    "    plt.xlabel(\"Uke\")\n",
    "    plt.ylabel(\"Befolkning\")\n",
    "    plt.show()"
   ]
  },
  {
   "attachments": {},
   "cell_type": "markdown",
   "metadata": {},
   "source": [
    "### Program for kontinuerlig modell:"
   ]
  },
  {
   "cell_type": "code",
   "execution_count": 3,
   "metadata": {},
   "outputs": [
    {
     "data": {
      "application/vnd.jupyter.widget-view+json": {
       "model_id": "d6499f65ebae47aebbf04b51847ff5cc",
       "version_major": 2,
       "version_minor": 0
      },
      "text/plain": [
       "interactive(children=(FloatSlider(value=0.3, description='a', max=1.0, step=0.01), Output()), _dom_classes=('w…"
      ]
     },
     "metadata": {},
     "output_type": "display_data"
    }
   ],
   "source": [
    "@interact(a = FloatSlider(value=0.3, min=0, max=1, step=0.01))\n",
    "def simulate(a):\n",
    "\n",
    "    I = np.array([1] * weeks, dtype=float)\n",
    "    t = np.arange(0, weeks, 1)\n",
    "\n",
    "    for n in t[1:]:\n",
    "        I[n] = np.e**(a*n)\n",
    "\n",
    "    plt.gca().set_ylim([0, p*1.1])\n",
    "    \n",
    "    plt.plot(t, I)\n",
    "    plt.legend([\"Antall syke\"], loc='center left', bbox_to_anchor=(1, 0.5))\n",
    "    plt.xticks(np.arange(0, weeks + 1, 1))\n",
    "    plt.title(\"Smittespredning\")\n",
    "    plt.xlabel(\"Uke\")\n",
    "    plt.ylabel(\"Befolkning\")\n",
    "    plt.show()\n"
   ]
  },
  {
   "attachments": {},
   "cell_type": "markdown",
   "metadata": {},
   "source": [
    "### Analyse av Modell 1\n",
    "\n",
    "Man kan observere at Modell 1 har begrensinger. Folk blir ikke friske, og det blir ikke tatt hensyn til at antallet personer det er mulig å smitte synker når noen blir syke. Dette fører til en eksponentiell vekst, og at det er mulig å ende opp med flere syke enn det er mennesker i befolkningen. Dette gjør at modellen er dårlig ved høye smittetall."
   ]
  },
  {
   "attachments": {},
   "cell_type": "markdown",
   "metadata": {},
   "source": [
    "## Modell 2: Variasjon av antall mottakelige\n",
    "\n",
    "For å unngå problemet med det blir flere syke mennesker enn det er mennesker i befolkningen, må man sørge for at syke mennesker ikke smitter andre som allerede er syke. Dette kan oppnås ved å multiplisere kontakraten med den prosentvise andellen av befolkningen som er frisk. Man ender da opp med modellen under.\n",
    "\n",
    "### Numerisk modell $I_{t+1} = I_n + a I_n S_n$\n",
    "\n",
    "Man kan utrykke $S(t)$ ved $1 - \\frac{I(t)}{p}$, der $p$ er total befolkning.\n",
    "\n",
    "Også her er det mulig å lage en kontinuerlig modell.\n",
    "\n",
    "### Kontinuerlig modell $I(t) =  a I(t) S(t)$\n",
    "\n",
    "Funksjonen $I(t)$ kan bli utregnet ved å løse startverdiproblemet $I'(t) = a I(t) S(t), \\hspace{0.3cm} I(0) = 1$  \n",
    "Siden $S(t) = 1 - \\frac{I(t)}{p}$, kan man skrive om startverdiproblemt til $I'(t) = a I(t)\\left(1 - \\frac{I(t)}{p}\\right), \\hspace{0.3cm} I(0) = 1$  \n",
    "Løsningen på dette blir $I(t) = p\\left(\\frac{e^{ax}}{p+e^{ax}-1}\\right)$\n",
    "\n",
    "#### Program for numerisk modell:"
   ]
  },
  {
   "cell_type": "code",
   "execution_count": 4,
   "metadata": {},
   "outputs": [
    {
     "data": {
      "application/vnd.jupyter.widget-view+json": {
       "model_id": "927d41d5a5a64566b699253825e731dc",
       "version_major": 2,
       "version_minor": 0
      },
      "text/plain": [
       "interactive(children=(FloatSlider(value=1.0, description='I_0', max=1000.0, min=1.0, step=1.0), FloatSlider(va…"
      ]
     },
     "metadata": {},
     "output_type": "display_data"
    }
   ],
   "source": [
    "@interact(I_0 = FloatSlider(value=1, min=1, max=1000, step=1), a = FloatSlider(value=0.4, min=0, max=1, step=0.01))\n",
    "def simulate(I_0, a):\n",
    "    \n",
    "    I = np.array([I_0] * weeks, dtype=float)\n",
    "    t = np.arange(0, weeks, 1)\n",
    "\n",
    "    for n in t[:-1]:\n",
    "        S = 1 - I[n]/p\n",
    "        I[n + 1] = I[n] + a*I[n]*S\n",
    "\n",
    "\n",
    "    plt.plot(t, I)\n",
    "    plt.plot(t, p - I)\n",
    "    plt.legend([\"Antall syke\", \"Antall mottakelige\"], loc='center left', bbox_to_anchor=(1, 0.5))\n",
    "    plt.xticks(np.arange(0, weeks + 1, 1))\n",
    "    plt.title(\"Smittespredning\")\n",
    "    plt.xlabel(\"Uke\")\n",
    "    plt.ylabel(\"Befolkning\")\n",
    "    plt.show()"
   ]
  },
  {
   "attachments": {},
   "cell_type": "markdown",
   "metadata": {},
   "source": [
    "### Program for kontinuerlig modell:"
   ]
  },
  {
   "cell_type": "code",
   "execution_count": 5,
   "metadata": {},
   "outputs": [
    {
     "data": {
      "application/vnd.jupyter.widget-view+json": {
       "model_id": "ee1ab6c802fc4139b1148e3e605e7a72",
       "version_major": 2,
       "version_minor": 0
      },
      "text/plain": [
       "interactive(children=(FloatSlider(value=0.4, description='a', max=1.0, step=0.01), Output()), _dom_classes=('w…"
      ]
     },
     "metadata": {},
     "output_type": "display_data"
    }
   ],
   "source": [
    "@interact(a = FloatSlider(value=0.4, min=0, max=1, step=0.01))\n",
    "def simulate(a):\n",
    "\n",
    "    I = np.array([1] * weeks, dtype=float)\n",
    "    t = np.arange(0, weeks, 1)\n",
    "\n",
    "    for n in t[1:]:\n",
    "        I[n] = p*np.e**(a*n)/(p+np.e**(a*n)-1)\n",
    "    \n",
    "    plt.plot(t, I)\n",
    "    plt.plot(t, p - I)\n",
    "    plt.legend([\"Antall syke\", \"Antall mottakelige\"], loc='center left', bbox_to_anchor=(1, 0.5))\n",
    "    plt.xticks(np.arange(0, weeks + 1, 1))\n",
    "    plt.title(\"Smittespredning\")\n",
    "    plt.xlabel(\"Uke\")\n",
    "    plt.ylabel(\"Befolkning\")\n",
    "    plt.show()"
   ]
  },
  {
   "attachments": {},
   "cell_type": "markdown",
   "metadata": {},
   "source": [
    "### Analyse av Modell 2\n",
    "\n",
    "Modell 2 unngår problemet med at det blir flere syke mennesker enn det er mennesker i befolkningen. Man kan se at vekstfarten til $I$ øker i starten, men etterhvert som det blir færre mulige folk å smitte, synker vekstfarten. Folk har fremdeles ikke mulighet til å bli frisk, noe som betyr at modellen kun vil kunne brukes på sykdommer som ikke er kurerbare."
   ]
  },
  {
   "attachments": {},
   "cell_type": "markdown",
   "metadata": {},
   "source": [
    "## Modell 3: Folk kan bli friske\n",
    "\n",
    "For å legge til at folk blir friske trenger man en ny variabel, kalt bedringskoeffisient. Med denne variabelen får man den numeriske modellen under.\n",
    "\n",
    "### Numerisk modell $I_{t+1} = I_n + a I_n S_n - b I_n$\n",
    "\n",
    "Variabelen $b$ er bedringsraten, som er hvor stor andell av de syke som blir frisk per uke. Folk som allerede har vært syk kan ikke bli syk på nytt, noe som betyr at $S$ må bli redefinert. $S$ er nå 1 minus summen av mennesker som har vært syk og som er syk, delt på total befolkning.\n",
    "\n",
    "Det er mulig å lage en kontinuerlig modell, men det er vanskeligere å løse startverdiproblemet siden $S$ er definert ut fra både hvor mange som er syke og hvor mange som har vært syke. Det er derfor ikke laget noe program for den kontinuerlige modellen her.\n",
    "\n",
    "### Kontinuerlig modell $I'(t) = a I(t) S(t) - b(t)$\n",
    "\n",
    "#### Program for numerisk modell:"
   ]
  },
  {
   "cell_type": "code",
   "execution_count": 8,
   "metadata": {},
   "outputs": [
    {
     "data": {
      "application/vnd.jupyter.widget-view+json": {
       "model_id": "ad8d5646194045fc8f8d4aa1a2ea4f0e",
       "version_major": 2,
       "version_minor": 0
      },
      "text/plain": [
       "interactive(children=(FloatSlider(value=1.0, description='I_0', max=1000.0, min=1.0, step=1.0), FloatSlider(va…"
      ]
     },
     "metadata": {},
     "output_type": "display_data"
    }
   ],
   "source": [
    "@interact(I_0 = FloatSlider(value=1, min=1, max=1000, step=1), a = FloatSlider(value=4.02, min=3, max=5, step=0.01), b = FloatSlider(value=3.47, min=1, max=4, step=0.01))\n",
    "def simulate(I_0, a, b):\n",
    "\n",
    "    I = np.array([I_0] * weeks, dtype=float)\n",
    "    t = np.arange(0, weeks, 1)\n",
    "\n",
    "    immune = 0\n",
    "\n",
    "    for n in t[:-1]:\n",
    "        immune += b*I[n]\n",
    "        S = 1 - (I[n] + immune)/p\n",
    "        I[n + 1] = I[n] + a*I[n]*S - b*I[n]\n",
    "\n",
    "\n",
    "    plt.plot(t, I)\n",
    "    plt.plot(np.split(influensa_data, 2, 1)[0], np.split(influensa_data, 2, 1)[1])\n",
    "    plt.legend([\"Antallet syke basert på modellen\", \"Antallet faktisk syke\"], loc='center left', bbox_to_anchor=(1, 0.5))\n",
    "    plt.xticks(np.arange(0, weeks + 1, 1), [i%52 for i in range(40, 40 + weeks + 1)])\n",
    "    plt.title(\"Smittespredning\")\n",
    "    plt.xlabel(\"Uke\")\n",
    "    plt.ylabel(\"Befolkning\")\n",
    "    plt.show()"
   ]
  },
  {
   "attachments": {},
   "cell_type": "markdown",
   "metadata": {},
   "source": [
    "### Analyse av Modell 3\n",
    "\n",
    "Ved å justere verdiene til $a$ og $b$ i modellen er det mulig å få den til å simulere influensasmitte ganske bra. $b$ med verdien 3.47 bør gi mening, da det vil tilsvare at folk gjennomsnittlig blir frisk på ca. en tredjedel av en uke. Modellen er likevel begrenset i forhold til at kontaktraten til mennesker varierer i løpet av et år. Dette kan man se tydelig på antallet faktisk syke fra uke 1 og 2."
   ]
  },
  {
   "attachments": {},
   "cell_type": "markdown",
   "metadata": {},
   "source": [
    "## Vaksinering\n",
    "\n",
    "Det er mulig å simulere vaksinering med Modell 3, men da må man redefinere $S$ enda en gang. $S$ er nå 1 - summen av de som er syke, har vært syk, og de som er vaksinerte, delt på total befolkning. Programmet under simulerer vaksinering ved at $i$ er hvor stor andel av befolkningen som er vaksinert.\n",
    "\n",
    "#### Numerisk program med vaksinering"
   ]
  },
  {
   "cell_type": "code",
   "execution_count": 9,
   "metadata": {},
   "outputs": [
    {
     "data": {
      "application/vnd.jupyter.widget-view+json": {
       "model_id": "b9464fb866a74b0db45d35fa56f1a662",
       "version_major": 2,
       "version_minor": 0
      },
      "text/plain": [
       "interactive(children=(FloatSlider(value=1.0, description='I_0', max=1000.0, min=1.0, step=1.0), FloatSlider(va…"
      ]
     },
     "metadata": {},
     "output_type": "display_data"
    }
   ],
   "source": [
    "@interact(I_0 = FloatSlider(value=1, min=1, max=1000, step=1), a = FloatSlider(value=4.02, min=3, max=5, step=0.01), b = FloatSlider(value=3.47, min=1, max=4, step=0.01), i = FloatSlider(value=0.08, min=0, max=0.15, step=0.01))\n",
    "def simulate(I_0, a, b, i):\n",
    "    \n",
    "    I = np.array([I_0] * weeks, dtype=float)\n",
    "    t = np.arange(0, weeks, 1)\n",
    "\n",
    "    immune = 0\n",
    "    vaccinated = p*i\n",
    "\n",
    "    for n in t[:-1]:\n",
    "        immune += b*I[n]\n",
    "        S = 1 - (I[n] + immune + vaccinated)/p\n",
    "        I[n + 1] = I[n] + a*I[n]*S - b*I[n]\n",
    "\n",
    "\n",
    "    plt.plot(t, I)\n",
    "    plt.plot(np.split(influensa_data, 2, 1)[0], np.split(influensa_data, 2, 1)[1])\n",
    "    plt.legend([\"Antallet syke basert på modellen\", \"Antallet faktisk syke\"], loc='center left', bbox_to_anchor=(1, 0.5))\n",
    "    plt.xticks(np.arange(0, weeks + 1, 1), [i%52 for i in range(40, 40 + weeks + 1)])\n",
    "    plt.title(\"Smittespredning\")\n",
    "    plt.xlabel(\"Uke\")\n",
    "    plt.ylabel(\"Befolkning\")\n",
    "    plt.show()"
   ]
  },
  {
   "attachments": {},
   "cell_type": "markdown",
   "metadata": {},
   "source": [
    "### Analyse av vaksinering\n",
    "\n",
    "Som man kan se på figuren ovenfor kan det å vaksinere en liten andel av befolkningen ha en veldig stor påvirkning på maksimal smitte. Modellen her sier at ved å vaksinere bare 8% av befolkningen, er det mulig å redusere den maksimale smittetoppen til nesten en syvendedel av det den originalt var."
   ]
  }
 ],
 "metadata": {
  "kernelspec": {
   "display_name": "Python 3",
   "language": "python",
   "name": "python3"
  },
  "language_info": {
   "codemirror_mode": {
    "name": "ipython",
    "version": 3
   },
   "file_extension": ".py",
   "mimetype": "text/x-python",
   "name": "python",
   "nbconvert_exporter": "python",
   "pygments_lexer": "ipython3",
   "version": "3.10.4"
  },
  "orig_nbformat": 4,
  "vscode": {
   "interpreter": {
    "hash": "6847c98a8f86b01c6a19c518cd2f366693b80566b266804d5ca763cbb223f52b"
   }
  }
 },
 "nbformat": 4,
 "nbformat_minor": 2
}
